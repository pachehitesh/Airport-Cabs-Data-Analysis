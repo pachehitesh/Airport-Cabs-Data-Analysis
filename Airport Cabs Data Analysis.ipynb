{
 "cells": [
  {
   "cell_type": "code",
   "execution_count": 1,
   "id": "36cc810b-2e20-4e14-9964-ac4d0fa29b42",
   "metadata": {},
   "outputs": [],
   "source": [
    "import numpy as np\n"
   ]
  },
  {
   "cell_type": "code",
   "execution_count": 2,
   "id": "8e3cb308-7262-4dc6-afab-89ba3be5cbe9",
   "metadata": {},
   "outputs": [],
   "source": [
    "taxi=np.genfromtxt('nyc_taxis.csv',delimiter=',',skip_header=True)"
   ]
  },
  {
   "cell_type": "code",
   "execution_count": 3,
   "id": "9006f68a-d2f4-45f1-9fe2-6242eeb89d61",
   "metadata": {},
   "outputs": [],
   "source": [
    "speed= taxi[:, 7]/(taxi[:, 8]/3600)"
   ]
  },
  {
   "cell_type": "code",
   "execution_count": 5,
   "id": "84383bab-090e-40d3-9505-4d6058bff7be",
   "metadata": {},
   "outputs": [
    {
     "name": "stdout",
     "output_type": "stream",
     "text": [
      "32.24258580925573\n"
     ]
    }
   ],
   "source": [
    "mean_speed=speed.mean()\n",
    "print(mean_speed)"
   ]
  },
  {
   "cell_type": "code",
   "execution_count": 8,
   "id": "676d8875-92e9-408b-9176-91c62dee0a7f",
   "metadata": {},
   "outputs": [
    {
     "name": "stdout",
     "output_type": "stream",
     "text": [
      "13333\n"
     ]
    }
   ],
   "source": [
    "rides_feb=taxi[taxi[:, 1] == 2, 1]\n",
    "print(rides_feb.shape[0])"
   ]
  },
  {
   "cell_type": "code",
   "execution_count": 10,
   "id": "35f7b1a4-80ff-418e-ad3e-def66289c857",
   "metadata": {},
   "outputs": [
    {
     "name": "stdout",
     "output_type": "stream",
     "text": [
      "16\n"
     ]
    }
   ],
   "source": [
    "print(taxi[taxi[: , -3] > 50, -3].shape[0])"
   ]
  },
  {
   "cell_type": "code",
   "execution_count": 11,
   "id": "c8121574-e333-4404-83b4-b39fc2f79829",
   "metadata": {},
   "outputs": [
    {
     "name": "stdout",
     "output_type": "stream",
     "text": [
      "11832\n"
     ]
    }
   ],
   "source": [
    "print(taxi[taxi[:, 6] ==2, 6].shape[0])"
   ]
  },
  {
   "cell_type": "code",
   "execution_count": 12,
   "id": "a7a5491f-1227-4a8e-bb5c-51f243518758",
   "metadata": {},
   "outputs": [
    {
     "name": "stdout",
     "output_type": "stream",
     "text": [
      "16\n"
     ]
    }
   ],
   "source": [
    "expensive_rides = taxi[taxi[:, -3] > 50, -3].shape[0]\n",
    "print(expensive_rides)\n"
   ]
  },
  {
   "cell_type": "code",
   "execution_count": 13,
   "id": "4ef13fe9-a138-4d16-b7bf-9f7d3ed548ea",
   "metadata": {},
   "outputs": [
    {
     "name": "stdout",
     "output_type": "stream",
     "text": [
      "11832\n"
     ]
    }
   ],
   "source": [
    "credit_card_rides = taxi[taxi[:, 6] == 2, 6].shape[0]\n",
    "print(credit_card_rides)\n"
   ]
  },
  {
   "cell_type": "code",
   "execution_count": null,
   "id": "5601b8b8-12b8-462d-a620-85f88f872cae",
   "metadata": {},
   "outputs": [],
   "source": []
  }
 ],
 "metadata": {
  "kernelspec": {
   "display_name": "Python 3 (ipykernel)",
   "language": "python",
   "name": "python3"
  },
  "language_info": {
   "codemirror_mode": {
    "name": "ipython",
    "version": 3
   },
   "file_extension": ".py",
   "mimetype": "text/x-python",
   "name": "python",
   "nbconvert_exporter": "python",
   "pygments_lexer": "ipython3",
   "version": "3.13.1"
  }
 },
 "nbformat": 4,
 "nbformat_minor": 5
}
